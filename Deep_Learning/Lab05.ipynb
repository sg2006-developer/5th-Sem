{
 "cells": [
  {
   "cell_type": "code",
   "execution_count": 7,
   "id": "1af19429-33af-419d-b16f-d5411dc8d84e",
   "metadata": {},
   "outputs": [
    {
     "name": "stderr",
     "output_type": "stream",
     "text": [
      "C:\\Users\\ADMIN\\AppData\\Local\\anaconda3\\Lib\\site-packages\\keras\\src\\layers\\core\\dense.py:92: UserWarning: Do not pass an `input_shape`/`input_dim` argument to a layer. When using Sequential models, prefer using an `Input(shape)` object as the first layer in the model instead.\n",
      "  super().__init__(activity_regularizer=activity_regularizer, **kwargs)\n"
     ]
    },
    {
     "name": "stdout",
     "output_type": "stream",
     "text": [
      "Epoch 1/20\n",
      "\u001b[1m20/20\u001b[0m \u001b[32m━━━━━━━━━━━━━━━━━━━━\u001b[0m\u001b[37m\u001b[0m \u001b[1m0s\u001b[0m 5ms/step - accuracy: 0.9281 - loss: 0.1887 - val_accuracy: 1.0000 - val_loss: 0.0797\n",
      "Epoch 2/20\n",
      "\u001b[1m20/20\u001b[0m \u001b[32m━━━━━━━━━━━━━━━━━━━━\u001b[0m\u001b[37m\u001b[0m \u001b[1m0s\u001b[0m 4ms/step - accuracy: 0.9281 - loss: 0.1702 - val_accuracy: 1.0000 - val_loss: 0.0865\n",
      "Epoch 3/20\n",
      "\u001b[1m20/20\u001b[0m \u001b[32m━━━━━━━━━━━━━━━━━━━━\u001b[0m\u001b[37m\u001b[0m \u001b[1m0s\u001b[0m 4ms/step - accuracy: 0.9250 - loss: 0.1916 - val_accuracy: 0.9937 - val_loss: 0.0904\n",
      "Epoch 4/20\n",
      "\u001b[1m20/20\u001b[0m \u001b[32m━━━━━━━━━━━━━━━━━━━━\u001b[0m\u001b[37m\u001b[0m \u001b[1m0s\u001b[0m 4ms/step - accuracy: 0.9266 - loss: 0.1759 - val_accuracy: 0.9875 - val_loss: 0.0930\n",
      "Epoch 5/20\n",
      "\u001b[1m20/20\u001b[0m \u001b[32m━━━━━━━━━━━━━━━━━━━━\u001b[0m\u001b[37m\u001b[0m \u001b[1m0s\u001b[0m 4ms/step - accuracy: 0.9281 - loss: 0.1802 - val_accuracy: 0.9812 - val_loss: 0.0952\n",
      "Epoch 6/20\n",
      "\u001b[1m20/20\u001b[0m \u001b[32m━━━━━━━━━━━━━━━━━━━━\u001b[0m\u001b[37m\u001b[0m \u001b[1m0s\u001b[0m 4ms/step - accuracy: 0.9328 - loss: 0.1827 - val_accuracy: 0.9812 - val_loss: 0.0965\n",
      "\n",
      " \n",
      " Early stopping occurred at epoch:  1\n"
     ]
    }
   ],
   "source": [
    "import numpy as np\n",
    "import tensorflow as tf\n",
    "from tensorflow.keras.models import Sequential\n",
    "from tensorflow.keras.layers import Dense,Dropout\n",
    "from tensorflow.keras.optimizers import Adam\n",
    "from tensorflow import keras\n",
    "from sklearn.datasets import make_classification\n",
    "from sklearn.model_selection import train_test_split\n",
    "\n",
    "X,y = make_classification(n_samples=1000,n_features=20,n_classes=2,random_state=42)\n",
    "X_train,X_test,y_train,y_test = train_test_split(X,y,test_size=0.2,random_state=42)\n",
    "\n",
    "def create_dropout_model(dropout_rate=0.2):\n",
    "    model=Sequential([\n",
    "        Dense(64,input_shape=(X_train.shape[1],),activation='relu'),\n",
    "        Dropout(dropout_rate),\n",
    "        Dense(32,activation='relu'),\n",
    "        Dropout(dropout_rate),\n",
    "        Dense(1,activation='sigmoid')\n",
    "    ])\n",
    "\n",
    "    return model\n",
    "dropout_model = create_dropout_model(dropout_rate=0.2)\n",
    "dropout_model.compile(optimizer='adam',loss='binary_crossentropy',metrics=['accuracy'])\n",
    "\n",
    "dropout_history = dropout_model.fit(X_train,y_train,epochs=50,batch_size=32,validation_data=(X_test,y_test),verbose=0)\n",
    "\n",
    "early_stopping = keras.callbacks.EarlyStopping(monitor='val_loss',patience=5,restore_best_weights=True)\n",
    "history= dropout_model.fit(X_train,y_train,epochs=20,validation_split=0.2,callbacks=[early_stopping])\n",
    "early_stopping_epoch = np.argmin(history.history['val_loss'])+1\n",
    "print(\"\\n \\n Early stopping occurred at epoch: \",early_stopping_epoch)\n",
    "\n",
    "import matplotlib.pyplot as plt\n",
    "plt.figure(figsize=(10,6))\n",
    "plt.plot(dropout_history.history['accuracy'],label='Dropout Training Accuracy',linestyle='-')\n",
    "plt.plot(dropout_history.history['val_accuracy'],label='Do Validation Accuracy')\n",
    "plt.title('Training and Validation Accuracy')\n",
    "plt.xlabel('Epochs')\n",
    "plt.ylabel('Accuracy')\n",
    "plt.legend()\n",
    "plt.grid(True)\n",
    "plt.show()\n",
    "\n",
    "plt.plot(history.history['loss'],label='Training Loss')\n",
    "plt.plot(history.history['val_loss'],label='Validation Loss')\n",
    "plt.xlabel('Epochs')\n",
    "plt.ylabel('Loss')\n",
    "plt.title('Training and Validation Loss')\n",
    "plt.axvline(x=early_stopping_epoch,color='r',linestyle)"
   ]
  },
  {
   "cell_type": "code",
   "execution_count": null,
   "id": "71bdfa53-2938-4b8d-a2b7-17513208414d",
   "metadata": {},
   "outputs": [],
   "source": []
  }
 ],
 "metadata": {
  "kernelspec": {
   "display_name": "Python 3 (ipykernel)",
   "language": "python",
   "name": "python3"
  },
  "language_info": {
   "codemirror_mode": {
    "name": "ipython",
    "version": 3
   },
   "file_extension": ".py",
   "mimetype": "text/x-python",
   "name": "python",
   "nbconvert_exporter": "python",
   "pygments_lexer": "ipython3",
   "version": "3.13.5"
  }
 },
 "nbformat": 4,
 "nbformat_minor": 5
}
